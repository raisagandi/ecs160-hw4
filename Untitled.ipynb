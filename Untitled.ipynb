{
 "cells": [
  {
   "cell_type": "code",
   "execution_count": 1,
   "metadata": {},
   "outputs": [],
   "source": [
    "import pandas as pd \n",
    "import numpy as np"
   ]
  },
  {
   "cell_type": "code",
   "execution_count": 2,
   "metadata": {},
   "outputs": [],
   "source": [
    "df = pd.read_csv('test.csv')#, index_col=0)"
   ]
  },
  {
   "cell_type": "code",
   "execution_count": 3,
   "metadata": {},
   "outputs": [
    {
     "data": {
      "text/plain": [
       "(array([8]),)"
      ]
     },
     "execution_count": 3,
     "metadata": {},
     "output_type": "execute_result"
    }
   ],
   "source": [
    "np.where(df.columns == 'name')"
   ]
  },
  {
   "cell_type": "code",
   "execution_count": 4,
   "metadata": {},
   "outputs": [],
   "source": [
    "df1 = pd.read_csv('sampletweets.csv')"
   ]
  },
  {
   "cell_type": "code",
   "execution_count": 7,
   "metadata": {},
   "outputs": [],
   "source": [
    "mm = df.name.value_counts()"
   ]
  },
  {
   "cell_type": "code",
   "execution_count": 11,
   "metadata": {},
   "outputs": [
    {
     "data": {
      "text/plain": [
       "JetBlueNews        63\n",
       "otisday            28\n",
       "_mhertz            25\n",
       "rossj987           23\n",
       "scoobydoo9749      21\n",
       "MeeestarCoke       17\n",
       "SMHillman          17\n",
       "kbosspotter        17\n",
       "ThatJasonEaton     17\n",
       "arthurhasher       16\n",
       "patrick_maness     16\n",
       "luvthispayne       15\n",
       "Allisonjones704    15\n",
       "georgetietjen      15\n",
       "BernardLeCroix     14\n",
       "ColtSTaylor        14\n",
       "geekstiel          14\n",
       "riricesq           14\n",
       "Old_bauer          13\n",
       "alanbestnyc        13\n",
       "Aero0729           13\n",
       "DAngel082          12\n",
       "flemmingerin       12\n",
       "farfalla818        12\n",
       "JackieFerrari3     12\n",
       "tannapistolis      12\n",
       "weezerandburnie    12\n",
       "AlMehairiAUH       12\n",
       "TomFutureforall    12\n",
       "agoldenbrown       12\n",
       "                   ..\n",
       "Karimilrodz         1\n",
       "iBHoody             1\n",
       "bvincent            1\n",
       "jebus51881          1\n",
       "KP_Pearl            1\n",
       "AdamNMayer          1\n",
       "ExplodingGreen      1\n",
       "jasonramer          1\n",
       "saminalice          1\n",
       "ljhillmanphotos     1\n",
       "JeffPfeifer         1\n",
       "Runtt1              1\n",
       "ClaudddiaVS         1\n",
       "taleson2wheels      1\n",
       "statepkt            1\n",
       "batteryman29        1\n",
       "KevinDwan           1\n",
       "carlosondrums       1\n",
       "JtRoP               1\n",
       "mcgibbon_keith      1\n",
       "taesaunt24          1\n",
       "_Eric_Bishop        1\n",
       "M_Balt              1\n",
       "JasenVinlove        1\n",
       "bugmeyer            1\n",
       "traceyleffler       1\n",
       "seansegal           1\n",
       "MattMuskrat         1\n",
       "TINKERBELLEadog     1\n",
       "Ali_BarnesXO        1\n",
       "Name: name, Length: 6183, dtype: int64"
      ]
     },
     "execution_count": 11,
     "metadata": {},
     "output_type": "execute_result"
    }
   ],
   "source": [
    "df.name"
   ]
  },
  {
   "cell_type": "code",
   "execution_count": 22,
   "metadata": {},
   "outputs": [],
   "source": [
    "new_df = df[df.name == \"otisday\"]"
   ]
  },
  {
   "cell_type": "code",
   "execution_count": 23,
   "metadata": {},
   "outputs": [],
   "source": [
    "new_df.to_csv(\"scooby.csv\")"
   ]
  },
  {
   "cell_type": "code",
   "execution_count": 24,
   "metadata": {},
   "outputs": [
    {
     "data": {
      "text/plain": [
       "(28, 16)"
      ]
     },
     "execution_count": 24,
     "metadata": {},
     "output_type": "execute_result"
    }
   ],
   "source": [
    "new_df.shape"
   ]
  },
  {
   "cell_type": "code",
   "execution_count": null,
   "metadata": {},
   "outputs": [],
   "source": []
  }
 ],
 "metadata": {
  "kernelspec": {
   "display_name": "Python 3",
   "language": "python",
   "name": "python3"
  },
  "language_info": {
   "codemirror_mode": {
    "name": "ipython",
    "version": 3
   },
   "file_extension": ".py",
   "mimetype": "text/x-python",
   "name": "python",
   "nbconvert_exporter": "python",
   "pygments_lexer": "ipython3",
   "version": "3.6.7"
  }
 },
 "nbformat": 4,
 "nbformat_minor": 2
}
