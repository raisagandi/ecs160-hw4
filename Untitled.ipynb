{
 "cells": [
  {
   "cell_type": "code",
   "execution_count": 1,
   "metadata": {},
   "outputs": [],
   "source": [
    "import pandas as pd \n",
    "import numpy as np"
   ]
  },
  {
   "cell_type": "code",
   "execution_count": 2,
   "metadata": {},
   "outputs": [],
   "source": [
    "df = pd.read_csv('test.csv')#, index_col=0)"
   ]
  },
  {
   "cell_type": "code",
   "execution_count": 3,
   "metadata": {},
   "outputs": [
    {
     "data": {
      "text/plain": [
       "(array([8]),)"
      ]
     },
     "execution_count": 3,
     "metadata": {},
     "output_type": "execute_result"
    }
   ],
   "source": [
    "np.where(df.columns == 'name')"
   ]
  },
  {
   "cell_type": "code",
   "execution_count": 4,
   "metadata": {},
   "outputs": [],
   "source": [
    "df1 = pd.read_csv('sampletweets.csv')"
   ]
  },
  {
   "cell_type": "code",
   "execution_count": 5,
   "metadata": {},
   "outputs": [],
   "source": [
    "mm = df.name.value_counts()"
   ]
  },
  {
   "cell_type": "code",
   "execution_count": 6,
   "metadata": {},
   "outputs": [
    {
     "data": {
      "text/plain": [
       "JetBlueNews        63\n",
       "otisday            28\n",
       "_mhertz            25\n",
       "rossj987           23\n",
       "scoobydoo9749      21\n",
       "SMHillman          17\n",
       "kbosspotter        17\n",
       "MeeestarCoke       17\n",
       "ThatJasonEaton     17\n",
       "arthurhasher       16\n",
       "patrick_maness     16\n",
       "georgetietjen      15\n",
       "Allisonjones704    15\n",
       "luvthispayne       15\n",
       "BernardLeCroix     14\n",
       "ColtSTaylor        14\n",
       "geekstiel          14\n",
       "riricesq           14\n",
       "alanbestnyc        13\n",
       "Old_bauer          13\n",
       "Aero0729           13\n",
       "emptynester25      12\n",
       "JackieFerrari3     12\n",
       "weezerandburnie    12\n",
       "tannapistolis      12\n",
       "agoldenbrown       12\n",
       "DAngel082          12\n",
       "TomFutureforall    12\n",
       "farfalla818        12\n",
       "AlMehairiAUH       12\n",
       "                   ..\n",
       "afbillings          1\n",
       "FrontRowEc          1\n",
       "josephschwegler     1\n",
       "ScottPaterno        1\n",
       "HDsportsguy         1\n",
       "M7SONIC             1\n",
       "JRamosGonzalez      1\n",
       "SenseofFamily       1\n",
       "cindykane           1\n",
       "misschris715        1\n",
       "slidingsideways     1\n",
       "fverver             1\n",
       "AmyKeefe            1\n",
       "mirandahaustin      1\n",
       "MayhemRevived       1\n",
       "debbiejdangg        1\n",
       "monotaga            1\n",
       "jodyfuller          1\n",
       "Ariella_Lexi        1\n",
       "rmb1213             1\n",
       "KDFSmith            1\n",
       "NieBee              1\n",
       "shakatron           1\n",
       "omerrana            1\n",
       "revooh2009          1\n",
       "DominikZmuda        1\n",
       "CathleenBystrak     1\n",
       "MarkMais            1\n",
       "jtotheizzoe         1\n",
       "peteerboe           1\n",
       "Name: name, Length: 6183, dtype: int64"
      ]
     },
     "execution_count": 6,
     "metadata": {},
     "output_type": "execute_result"
    }
   ],
   "source": [
    "mm"
   ]
  },
  {
   "cell_type": "code",
   "execution_count": null,
   "metadata": {},
   "outputs": [],
   "source": []
  }
 ],
 "metadata": {
  "kernelspec": {
   "display_name": "Python 3",
   "language": "python",
   "name": "python3"
  },
  "language_info": {
   "codemirror_mode": {
    "name": "ipython",
    "version": 3
   },
   "file_extension": ".py",
   "mimetype": "text/x-python",
   "name": "python",
   "nbconvert_exporter": "python",
   "pygments_lexer": "ipython3",
   "version": "3.6.7"
  }
 },
 "nbformat": 4,
 "nbformat_minor": 2
}
